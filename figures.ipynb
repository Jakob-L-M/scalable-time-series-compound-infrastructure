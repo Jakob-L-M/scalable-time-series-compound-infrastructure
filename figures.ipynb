{
 "cells": [
  {
   "cell_type": "code",
   "execution_count": null,
   "metadata": {},
   "outputs": [],
   "source": [
    "import pandas as pd\n",
    "import matplotlib.pyplot as plt"
   ]
  },
  {
   "cell_type": "code",
   "execution_count": null,
   "metadata": {},
   "outputs": [],
   "source": [
    "df = pd.read_excel('data/SPEED.xlsx')\n",
    "\n",
    "# rescale time\n",
    "c = 0\n",
    "def helper():\n",
    "    global c\n",
    "    c += 1\n",
    "    return c\n",
    "\n",
    "df['t (s)'] = df['t (s)'].apply(lambda x: helper())\n",
    "\n",
    "df.columns = ['time', 'velocity']\n",
    "df"
   ]
  },
  {
   "cell_type": "code",
   "execution_count": null,
   "metadata": {},
   "outputs": [],
   "source": [
    "sub_df = df.iloc[:1800]\n",
    "plt.plot(sub_df['time'], sub_df['velocity'])"
   ]
  }
 ],
 "metadata": {
  "kernelspec": {
   "display_name": "Python 3",
   "language": "python",
   "name": "python3"
  },
  "language_info": {
   "codemirror_mode": {
    "name": "ipython",
    "version": 3
   },
   "file_extension": ".py",
   "mimetype": "text/x-python",
   "name": "python",
   "nbconvert_exporter": "python",
   "pygments_lexer": "ipython3",
   "version": "3.9.6"
  },
  "orig_nbformat": 4
 },
 "nbformat": 4,
 "nbformat_minor": 2
}
