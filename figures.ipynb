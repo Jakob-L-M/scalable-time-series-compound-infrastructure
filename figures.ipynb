{
 "cells": [
  {
   "cell_type": "code",
   "execution_count": null,
   "metadata": {},
   "outputs": [],
   "source": [
    "import pandas as pd\n",
    "import numpy as np\n",
    "import matplotlib.pyplot as plt\n",
    "from modules.paa import PAA"
   ]
  },
  {
   "attachments": {},
   "cell_type": "markdown",
   "metadata": {},
   "source": [
    "## Defining some constant variables"
   ]
  },
  {
   "cell_type": "code",
   "execution_count": null,
   "metadata": {},
   "outputs": [],
   "source": [
    "font = {'family': 'serif',\n",
    "        'color':  'black',\n",
    "        'weight': 'normal',\n",
    "        'size': 12,\n",
    "        }"
   ]
  },
  {
   "attachments": {},
   "cell_type": "markdown",
   "metadata": {},
   "source": [
    "## Reading the car velocity data\n",
    "This data is used for most of the examples"
   ]
  },
  {
   "cell_type": "code",
   "execution_count": null,
   "metadata": {},
   "outputs": [],
   "source": [
    "df = pd.read_excel('data/SPEED.xlsx')\n",
    "\n",
    "# rescale time\n",
    "c = -1\n",
    "def helper():\n",
    "    global c\n",
    "    c += 1\n",
    "    return c\n",
    "\n",
    "df['t (s)'] = df['t (s)'].apply(lambda x: helper())\n",
    "\n",
    "df.columns = ['time', 'velocity']\n",
    "df"
   ]
  },
  {
   "attachments": {},
   "cell_type": "markdown",
   "metadata": {},
   "source": [
    "## PAA Figure"
   ]
  },
  {
   "cell_type": "code",
   "execution_count": null,
   "metadata": {},
   "outputs": [],
   "source": [
    "sub_df = df.iloc[:2000]\n",
    "\n",
    "plt.figure(figsize=(8, 3))\n",
    "\n",
    "plt.plot(sub_df['time'], sub_df['velocity'], label='Time Series')\n",
    "\n",
    "n = 8\n",
    "# padding is just needed for the plots\n",
    "shift = len(sub_df)/(2*n)\n",
    "paa_time = [v+shift if i % 2  else v-shift for i,v in enumerate(np.repeat(PAA(sub_df['time'], n), 2))]\n",
    "paa_vel = list(np.repeat(PAA(sub_df['velocity'], n), 2))\n",
    "\n",
    "plt.plot(paa_time, paa_vel, c='black', label='PAA representation')\n",
    "plt.title('PAA with a fixed size of 8', fontdict=font)\n",
    "plt.xlabel('time (s)', fontdict=font)\n",
    "plt.ylabel('velocity (m/s)', fontdict=font)\n",
    "plt.xlim([0, 2000])\n",
    "plt.ylim([0, 23])\n",
    "plt.legend()\n",
    "plt.savefig('figures/PAA_8.pdf', bbox_inches='tight')"
   ]
  },
  {
   "attachments": {},
   "cell_type": "markdown",
   "metadata": {},
   "source": [
    "## SAX Figure"
   ]
  },
  {
   "cell_type": "code",
   "execution_count": null,
   "metadata": {},
   "outputs": [],
   "source": [
    "from scipy.stats import norm"
   ]
  },
  {
   "cell_type": "code",
   "execution_count": null,
   "metadata": {},
   "outputs": [],
   "source": [
    "s = 10000\n",
    "e = 12000\n",
    "\n",
    "sub_df = df.iloc[s:e]\n",
    "\n",
    "plt.figure(figsize=(8, 3))\n",
    "\n",
    "sub_df['normalized_velocity'] = (sub_df['velocity'] - sub_df['velocity'].mean()) / sub_df['velocity'].std()\n",
    "\n",
    "plt.plot(sub_df['time'], sub_df['normalized_velocity'], label='Time Series')\n",
    "\n",
    "n = 8\n",
    "# padding is just needed for the plots\n",
    "shift = len(sub_df)/(2*n)\n",
    "paa_time = [v+shift if i % 2  else v-shift for i,v in enumerate(np.repeat(PAA(sub_df['time'], n), 2))]\n",
    "paa_vel = list(np.repeat(PAA(sub_df['normalized_velocity'], n), 2))\n",
    "\n",
    "alphabet = 'abcde' # string with all chars to use\n",
    "\n",
    "a_size = len(alphabet)\n",
    "\n",
    "# this will create |alphabet| points which are the discreet bounds that will be used in SAX\n",
    "thresholds = norm.ppf(np.linspace(1/a_size, 1 - 1/a_size, a_size - 1))\n",
    "\n",
    "plt.plot([s, e], [thresholds[0], thresholds[0]], '--', color='gray', linewidth='1', label='SAX Thresholds')\n",
    "for t in thresholds[1:]:\n",
    "    plt.plot([s, e], [t, t], '--', color='gray', linewidth='1')\n",
    "\n",
    "print(thresholds)\n",
    "\n",
    "plt.plot(paa_time, paa_vel, c='black', label='PAA representation')\n",
    "plt.ylabel('normalized velocity', fontdict=font)\n",
    "plt.xlabel('time (s)', fontdict=font)\n",
    "plt.ylim([-1.65, 2.25])\n",
    "\n",
    "ax = plt.gca()\n",
    "y2 = ax.twinx()\n",
    "ticks = np.array([thresholds[0]*1.8] + list(thresholds) + [thresholds[-1]*1.8])\n",
    "ticks = (ticks[1:] + ticks[:-1])/2\n",
    "plt.ylim([-1.65, 2.25])\n",
    "plt.yticks(ticks, list(alphabet)[::-1], fontdict=font)\n",
    "\n",
    "\n",
    "plt.title('SAX with an alphabet size of 5 and 8 sub-vectors', fontdict=font)\n",
    "plt.xlim([s, e])\n",
    "plt.legend()\n",
    "plt.savefig('figures/SAX_2.pdf', bbox_inches='tight')"
   ]
  },
  {
   "attachments": {},
   "cell_type": "markdown",
   "metadata": {},
   "source": [
    "## Llyod's Algorithm Figure"
   ]
  },
  {
   "cell_type": "code",
   "execution_count": null,
   "metadata": {},
   "outputs": [],
   "source": [
    "from sklearn.cluster import KMeans\n",
    "from scipy.spatial import Voronoi, voronoi_plot_2d"
   ]
  },
  {
   "cell_type": "code",
   "execution_count": null,
   "metadata": {},
   "outputs": [],
   "source": [
    "plt.figure(figsize=(6, 5))\n",
    "nd1 = np.random.normal(0.5, 1.5, (10,2))\n",
    "nd2 = np.random.normal(0, 0.3, (10,2))\n",
    "nd3 = np.random.normal(1, 0.4, (10,2))\n",
    "nd4 = np.random.normal(0.2, 1, (10,2))\n",
    "points = np.concatenate([nd1, nd2, nd3, nd4])\n",
    "\n",
    "kmeans = KMeans(n_clusters=4, n_init='auto').fit(points)\n",
    "centroids = kmeans.cluster_centers_\n",
    "\n",
    "plt.scatter(points[:, 0], points[:, 1])\n",
    "plt.scatter(centroids[:, 0], centroids[:, 1], color='darkred', s=60)\n",
    "plt.xticks([])\n",
    "plt.yticks([])\n",
    "plt.title(\"Lloyd's Algorithm with k=4\", fontdict=font)\n",
    "\n",
    "vor = Voronoi(centroids)\n",
    "fig = voronoi_plot_2d(vor,plt.gca(), line_colors='red',line_width=1, line_alpha=1, point_size=0, show_vertices=False)\n",
    "\n",
    "plt.savefig('figures/Lloyd.pdf', bbox_inches='tight')\n",
    "plt.show()"
   ]
  }
 ],
 "metadata": {
  "kernelspec": {
   "display_name": "Python 3",
   "language": "python",
   "name": "python3"
  },
  "language_info": {
   "codemirror_mode": {
    "name": "ipython",
    "version": 3
   },
   "file_extension": ".py",
   "mimetype": "text/x-python",
   "name": "python",
   "nbconvert_exporter": "python",
   "pygments_lexer": "ipython3",
   "version": "3.9.6"
  },
  "orig_nbformat": 4
 },
 "nbformat": 4,
 "nbformat_minor": 2
}
